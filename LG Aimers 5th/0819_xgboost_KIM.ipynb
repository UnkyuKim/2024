{
 "cells": [
  {
   "cell_type": "code",
   "execution_count": 28,
   "id": "2413c84a",
   "metadata": {},
   "outputs": [],
   "source": [
    "ROOT_DIR = \"data\""
   ]
  },
  {
   "cell_type": "code",
   "execution_count": 2,
   "id": "2fa2d32c",
   "metadata": {
    "scrolled": true
   },
   "outputs": [
    {
     "name": "stdout",
     "output_type": "stream",
     "text": [
      "Defaulting to user installation because normal site-packages is not writeable\n",
      "Collecting miceforest\n",
      "  Downloading miceforest-6.0.3-py3-none-any.whl (40 kB)\n",
      "\u001b[2K     \u001b[90m━━━━━━━━━━━━━━━━━━━━━━━━━━━━━━━━━━━━━━━━\u001b[0m \u001b[32m40.3/40.3 kB\u001b[0m \u001b[31m1.7 MB/s\u001b[0m eta \u001b[36m0:00:00\u001b[0m\n",
      "\u001b[?25hCollecting lightgbm>=4.1.0\n",
      "  Downloading lightgbm-4.5.0-py3-none-manylinux_2_28_x86_64.whl (3.6 MB)\n",
      "\u001b[2K     \u001b[90m━━━━━━━━━━━━━━━━━━━━━━━━━━━━━━━━━━━━━━━━\u001b[0m \u001b[32m3.6/3.6 MB\u001b[0m \u001b[31m12.5 MB/s\u001b[0m eta \u001b[36m0:00:00\u001b[0m00:01\u001b[0m00:01\u001b[0m\n",
      "\u001b[?25hCollecting pyarrow>=6.0.1\n",
      "  Downloading pyarrow-17.0.0-cp310-cp310-manylinux_2_28_x86_64.whl (39.9 MB)\n",
      "\u001b[2K     \u001b[90m━━━━━━━━━━━━━━━━━━━━━━━━━━━━━━━━━━━━━━━━\u001b[0m \u001b[32m39.9/39.9 MB\u001b[0m \u001b[31m27.3 MB/s\u001b[0m eta \u001b[36m0:00:00\u001b[0m00:01\u001b[0m00:01\u001b[0m\n",
      "\u001b[?25hRequirement already satisfied: numpy in ./.local/lib/python3.10/site-packages (from miceforest) (1.23.5)\n",
      "Requirement already satisfied: scipy>=1.6.0 in ./.local/lib/python3.10/site-packages (from miceforest) (1.14.0)\n",
      "Requirement already satisfied: pandas>=2.1.0 in ./.local/lib/python3.10/site-packages (from miceforest) (2.1.4)\n",
      "Requirement already satisfied: python-dateutil>=2.8.2 in ./.local/lib/python3.10/site-packages (from pandas>=2.1.0->miceforest) (2.8.2)\n",
      "Requirement already satisfied: tzdata>=2022.1 in ./.local/lib/python3.10/site-packages (from pandas>=2.1.0->miceforest) (2024.1)\n",
      "Requirement already satisfied: pytz>=2020.1 in ./.local/lib/python3.10/site-packages (from pandas>=2.1.0->miceforest) (2024.1)\n",
      "Requirement already satisfied: six>=1.5 in ./.local/lib/python3.10/site-packages (from python-dateutil>=2.8.2->pandas>=2.1.0->miceforest) (1.16.0)\n",
      "Installing collected packages: pyarrow, lightgbm, miceforest\n",
      "Successfully installed lightgbm-4.5.0 miceforest-6.0.3 pyarrow-17.0.0\n",
      "\n",
      "\u001b[1m[\u001b[0m\u001b[34;49mnotice\u001b[0m\u001b[1;39;49m]\u001b[0m\u001b[39;49m A new release of pip is available: \u001b[0m\u001b[31;49m23.0.1\u001b[0m\u001b[39;49m -> \u001b[0m\u001b[32;49m24.2\u001b[0m\n",
      "\u001b[1m[\u001b[0m\u001b[34;49mnotice\u001b[0m\u001b[1;39;49m]\u001b[0m\u001b[39;49m To update, run: \u001b[0m\u001b[32;49mpip install --upgrade pip\u001b[0m\n"
     ]
    }
   ],
   "source": [
    "!pip install miceforest"
   ]
  },
  {
   "cell_type": "code",
   "execution_count": 1,
   "id": "f7dd89e4",
   "metadata": {},
   "outputs": [],
   "source": [
    "import os\n",
    "from pprint import pprint\n",
    "\n",
    "import numpy as np\n",
    "import pandas as pd\n",
    "from sklearn.ensemble import RandomForestClassifier\n",
    "from sklearn.metrics import (\n",
    "    accuracy_score,\n",
    "    classification_report,\n",
    "    confusion_matrix,\n",
    "    f1_score,\n",
    "    precision_score,\n",
    "    recall_score,\n",
    ")\n",
    "from sklearn.model_selection import train_test_split\n",
    "from tqdm import tqdm\n",
    "from xgboost import XGBClassifier\n",
    "from sklearn.metrics import f1_score\n",
    "from sklearn.experimental import enable_iterative_imputer\n",
    "from sklearn.impute import IterativeImputer\n",
    "from sklearn.linear_model import LinearRegression"
   ]
  },
  {
   "cell_type": "code",
   "execution_count": 30,
   "id": "9958bbd5",
   "metadata": {},
   "outputs": [],
   "source": [
    "train_data = pd.read_csv(\"train.csv\")"
   ]
  },
  {
   "cell_type": "code",
   "execution_count": 31,
   "id": "11ec9bd6",
   "metadata": {},
   "outputs": [
    {
     "data": {
      "text/plain": [
       "(40506, 464)"
      ]
     },
     "execution_count": 31,
     "metadata": {},
     "output_type": "execute_result"
    }
   ],
   "source": [
    "train_data.shape"
   ]
  },
  {
   "cell_type": "code",
   "execution_count": 32,
   "id": "71014374",
   "metadata": {},
   "outputs": [
    {
     "data": {
      "text/plain": [
       "Wip Line_Dam                         0\n",
       "Process Desc._Dam                    0\n",
       "Equipment_Dam                        0\n",
       "Model.Suffix_Dam                     0\n",
       "Workorder_Dam                        0\n",
       "                                 ...  \n",
       "Receip No Judge Value_Fill2      40506\n",
       "WorkMode Collect Result_Fill2        0\n",
       "WorkMode Unit Time_Fill2         40506\n",
       "WorkMode Judge Value_Fill2       40506\n",
       "target                               0\n",
       "Length: 464, dtype: int64"
      ]
     },
     "execution_count": 32,
     "metadata": {},
     "output_type": "execute_result"
    }
   ],
   "source": [
    "train_data.isna().sum()"
   ]
  },
  {
   "cell_type": "code",
   "execution_count": 33,
   "id": "8780f732",
   "metadata": {},
   "outputs": [
    {
     "name": "stdout",
     "output_type": "stream",
     "text": [
      "['CURE END POSITION X Unit Time_Dam', 'CURE END POSITION X Judge Value_Dam', 'CURE END POSITION Z Unit Time_Dam', 'CURE END POSITION Z Judge Value_Dam', 'CURE END POSITION Θ Unit Time_Dam', 'CURE END POSITION Θ Judge Value_Dam', 'CURE SPEED Unit Time_Dam', 'CURE SPEED Judge Value_Dam', 'CURE STANDBY POSITION X Unit Time_Dam', 'CURE STANDBY POSITION X Judge Value_Dam', 'CURE STANDBY POSITION Z Unit Time_Dam', 'CURE STANDBY POSITION Z Judge Value_Dam', 'CURE STANDBY POSITION Θ Unit Time_Dam', 'CURE STANDBY POSITION Θ Judge Value_Dam', 'CURE START POSITION X Unit Time_Dam', 'CURE START POSITION X Judge Value_Dam', 'CURE START POSITION Z Unit Time_Dam', 'CURE START POSITION Z Judge Value_Dam', 'CURE START POSITION Θ Unit Time_Dam', 'CURE START POSITION Θ Judge Value_Dam', 'DISCHARGED SPEED OF RESIN Unit Time_Dam', 'DISCHARGED SPEED OF RESIN Judge Value_Dam', 'DISCHARGED TIME OF RESIN(Stage1) Unit Time_Dam', 'DISCHARGED TIME OF RESIN(Stage1) Judge Value_Dam', 'DISCHARGED TIME OF RESIN(Stage2) Unit Time_Dam', 'DISCHARGED TIME OF RESIN(Stage2) Judge Value_Dam', 'DISCHARGED TIME OF RESIN(Stage3) Unit Time_Dam', 'DISCHARGED TIME OF RESIN(Stage3) Judge Value_Dam', 'Dispense Volume(Stage1) Unit Time_Dam', 'Dispense Volume(Stage1) Judge Value_Dam', 'Dispense Volume(Stage2) Unit Time_Dam', 'Dispense Volume(Stage2) Judge Value_Dam', 'Dispense Volume(Stage3) Unit Time_Dam', 'Dispense Volume(Stage3) Judge Value_Dam', 'HEAD NORMAL COORDINATE X AXIS(Stage1) Unit Time_Dam', 'HEAD NORMAL COORDINATE X AXIS(Stage2) Unit Time_Dam', 'HEAD NORMAL COORDINATE X AXIS(Stage2) Judge Value_Dam', 'HEAD NORMAL COORDINATE X AXIS(Stage3) Unit Time_Dam', 'HEAD NORMAL COORDINATE X AXIS(Stage3) Judge Value_Dam', 'HEAD NORMAL COORDINATE Y AXIS(Stage1) Unit Time_Dam', 'HEAD NORMAL COORDINATE Y AXIS(Stage1) Judge Value_Dam', 'HEAD NORMAL COORDINATE Y AXIS(Stage2) Unit Time_Dam', 'HEAD NORMAL COORDINATE Y AXIS(Stage2) Judge Value_Dam', 'HEAD NORMAL COORDINATE Y AXIS(Stage3) Unit Time_Dam', 'HEAD NORMAL COORDINATE Y AXIS(Stage3) Judge Value_Dam', 'HEAD NORMAL COORDINATE Z AXIS(Stage1) Unit Time_Dam', 'HEAD NORMAL COORDINATE Z AXIS(Stage1) Judge Value_Dam', 'HEAD NORMAL COORDINATE Z AXIS(Stage2) Unit Time_Dam', 'HEAD NORMAL COORDINATE Z AXIS(Stage2) Judge Value_Dam', 'HEAD NORMAL COORDINATE Z AXIS(Stage3) Unit Time_Dam', 'HEAD NORMAL COORDINATE Z AXIS(Stage3) Judge Value_Dam', 'HEAD Standby Position X Unit Time_Dam', 'HEAD Standby Position X Judge Value_Dam', 'HEAD Standby Position Y Unit Time_Dam', 'HEAD Standby Position Y Judge Value_Dam', 'HEAD Standby Position Z Unit Time_Dam', 'HEAD Standby Position Z Judge Value_Dam', 'Head Clean Position X Unit Time_Dam', 'Head Clean Position X Judge Value_Dam', 'Head Clean Position Y Unit Time_Dam', 'Head Clean Position Y Judge Value_Dam', 'Head Clean Position Z Unit Time_Dam', 'Head Clean Position Z Judge Value_Dam', 'Head Purge Position X Unit Time_Dam', 'Head Purge Position X Judge Value_Dam', 'Head Purge Position Y Unit Time_Dam', 'Head Purge Position Y Judge Value_Dam', 'Head Purge Position Z Unit Time_Dam', 'Head Purge Position Z Judge Value_Dam', 'Head Zero Position X Unit Time_Dam', 'Head Zero Position X Judge Value_Dam', 'Head Zero Position Y Unit Time_Dam', 'Head Zero Position Y Judge Value_Dam', 'Head Zero Position Z Unit Time_Dam', 'Head Zero Position Z Judge Value_Dam', 'Machine Tact time Unit Time_Dam', 'Machine Tact time Judge Value_Dam', 'PalletID Unit Time_Dam', 'PalletID Judge Value_Dam', 'Production Qty Unit Time_Dam', 'Production Qty Judge Value_Dam', 'Receip No Unit Time_Dam', 'Receip No Judge Value_Dam', 'Stage1 Circle1 Distance Speed Unit Time_Dam', 'Stage1 Circle1 Distance Speed Judge Value_Dam', 'Stage1 Circle2 Distance Speed Unit Time_Dam', 'Stage1 Circle2 Distance Speed Judge Value_Dam', 'Stage1 Circle3 Distance Speed Unit Time_Dam', 'Stage1 Circle3 Distance Speed Judge Value_Dam', 'Stage1 Circle4 Distance Speed Unit Time_Dam', 'Stage1 Circle4 Distance Speed Judge Value_Dam', 'Stage1 Line1 Distance Speed Unit Time_Dam', 'Stage1 Line1 Distance Speed Judge Value_Dam', 'Stage1 Line2 Distance Speed Unit Time_Dam', 'Stage1 Line2 Distance Speed Judge Value_Dam', 'Stage1 Line3 Distance Speed Unit Time_Dam', 'Stage1 Line3 Distance Speed Judge Value_Dam', 'Stage1 Line4 Distance Speed Unit Time_Dam', 'Stage1 Line4 Distance Speed Judge Value_Dam', 'Stage2 Circle1 Distance Speed Unit Time_Dam', 'Stage2 Circle1 Distance Speed Judge Value_Dam', 'Stage2 Circle2 Distance Speed Unit Time_Dam', 'Stage2 Circle2 Distance Speed Judge Value_Dam', 'Stage2 Circle3 Distance Speed Unit Time_Dam', 'Stage2 Circle3 Distance Speed Judge Value_Dam', 'Stage2 Circle4 Distance Speed Unit Time_Dam', 'Stage2 Circle4 Distance Speed Judge Value_Dam', 'Stage2 Line1 Distance Speed Unit Time_Dam', 'Stage2 Line1 Distance Speed Judge Value_Dam', 'Stage2 Line2 Distance Speed Unit Time_Dam', 'Stage2 Line2 Distance Speed Judge Value_Dam', 'Stage2 Line3 Distance Speed Unit Time_Dam', 'Stage2 Line3 Distance Speed Judge Value_Dam', 'Stage2 Line4 Distance Speed Unit Time_Dam', 'Stage2 Line4 Distance Speed Judge Value_Dam', 'Stage3 Circle1 Distance Speed Unit Time_Dam', 'Stage3 Circle1 Distance Speed Judge Value_Dam', 'Stage3 Circle2 Distance Speed Unit Time_Dam', 'Stage3 Circle2 Distance Speed Judge Value_Dam', 'Stage3 Circle3 Distance Speed Unit Time_Dam', 'Stage3 Circle3 Distance Speed Judge Value_Dam', 'Stage3 Circle4 Distance Speed Unit Time_Dam', 'Stage3 Circle4 Distance Speed Judge Value_Dam', 'Stage3 Line1 Distance Speed Unit Time_Dam', 'Stage3 Line1 Distance Speed Judge Value_Dam', 'Stage3 Line2 Distance Speed Unit Time_Dam', 'Stage3 Line2 Distance Speed Judge Value_Dam', 'Stage3 Line3 Distance Speed Unit Time_Dam', 'Stage3 Line3 Distance Speed Judge Value_Dam', 'Stage3 Line4 Distance Speed Unit Time_Dam', 'Stage3 Line4 Distance Speed Judge Value_Dam', 'THICKNESS 1 Unit Time_Dam', 'THICKNESS 1 Judge Value_Dam', 'THICKNESS 2 Unit Time_Dam', 'THICKNESS 2 Judge Value_Dam', 'THICKNESS 3 Unit Time_Dam', 'THICKNESS 3 Judge Value_Dam', 'WorkMode Unit Time_Dam', 'WorkMode Judge Value_Dam', 'GMES_ORIGIN_INSP_JUDGE_CODE Unit Time_AutoClave', 'DISCHARGED SPEED OF RESIN Unit Time_Fill1', 'DISCHARGED SPEED OF RESIN Judge Value_Fill1', 'DISCHARGED TIME OF RESIN(Stage1) Unit Time_Fill1', 'DISCHARGED TIME OF RESIN(Stage1) Judge Value_Fill1', 'DISCHARGED TIME OF RESIN(Stage2) Unit Time_Fill1', 'DISCHARGED TIME OF RESIN(Stage2) Judge Value_Fill1', 'DISCHARGED TIME OF RESIN(Stage3) Unit Time_Fill1', 'DISCHARGED TIME OF RESIN(Stage3) Judge Value_Fill1', 'Dispense Volume(Stage1) Unit Time_Fill1', 'Dispense Volume(Stage1) Judge Value_Fill1', 'Dispense Volume(Stage2) Unit Time_Fill1', 'Dispense Volume(Stage2) Judge Value_Fill1', 'Dispense Volume(Stage3) Unit Time_Fill1', 'Dispense Volume(Stage3) Judge Value_Fill1', 'HEAD NORMAL COORDINATE X AXIS(Stage1) Unit Time_Fill1', 'HEAD NORMAL COORDINATE X AXIS(Stage2) Unit Time_Fill1', 'HEAD NORMAL COORDINATE X AXIS(Stage2) Judge Value_Fill1', 'HEAD NORMAL COORDINATE X AXIS(Stage3) Unit Time_Fill1', 'HEAD NORMAL COORDINATE X AXIS(Stage3) Judge Value_Fill1', 'HEAD NORMAL COORDINATE Y AXIS(Stage1) Unit Time_Fill1', 'HEAD NORMAL COORDINATE Y AXIS(Stage1) Judge Value_Fill1', 'HEAD NORMAL COORDINATE Y AXIS(Stage2) Unit Time_Fill1', 'HEAD NORMAL COORDINATE Y AXIS(Stage2) Judge Value_Fill1', 'HEAD NORMAL COORDINATE Y AXIS(Stage3) Unit Time_Fill1', 'HEAD NORMAL COORDINATE Y AXIS(Stage3) Judge Value_Fill1', 'HEAD NORMAL COORDINATE Z AXIS(Stage1) Unit Time_Fill1', 'HEAD NORMAL COORDINATE Z AXIS(Stage1) Judge Value_Fill1', 'HEAD NORMAL COORDINATE Z AXIS(Stage2) Unit Time_Fill1', 'HEAD NORMAL COORDINATE Z AXIS(Stage2) Judge Value_Fill1', 'HEAD NORMAL COORDINATE Z AXIS(Stage3) Unit Time_Fill1', 'HEAD NORMAL COORDINATE Z AXIS(Stage3) Judge Value_Fill1', 'HEAD Standby Position X Unit Time_Fill1', 'HEAD Standby Position X Judge Value_Fill1', 'HEAD Standby Position Y Unit Time_Fill1', 'HEAD Standby Position Y Judge Value_Fill1', 'HEAD Standby Position Z Unit Time_Fill1', 'HEAD Standby Position Z Judge Value_Fill1', 'Head Clean Position X Unit Time_Fill1', 'Head Clean Position X Judge Value_Fill1', 'Head Clean Position Y Unit Time_Fill1', 'Head Clean Position Y Judge Value_Fill1', 'Head Clean Position Z Unit Time_Fill1', 'Head Clean Position Z Judge Value_Fill1', 'Head Purge Position X Unit Time_Fill1', 'Head Purge Position X Judge Value_Fill1', 'Head Purge Position Y Unit Time_Fill1', 'Head Purge Position Y Judge Value_Fill1', 'Head Purge Position Z Unit Time_Fill1', 'Head Purge Position Z Judge Value_Fill1', 'Machine Tact time Unit Time_Fill1', 'Machine Tact time Judge Value_Fill1', 'PalletID Unit Time_Fill1', 'PalletID Judge Value_Fill1', 'Production Qty Unit Time_Fill1', 'Production Qty Judge Value_Fill1', 'Receip No Unit Time_Fill1', 'Receip No Judge Value_Fill1', 'WorkMode Unit Time_Fill1', 'WorkMode Judge Value_Fill1', 'CURE END POSITION X Unit Time_Fill2', 'CURE END POSITION X Judge Value_Fill2', 'CURE END POSITION Z Unit Time_Fill2', 'CURE END POSITION Z Judge Value_Fill2', 'CURE END POSITION Θ Unit Time_Fill2', 'CURE END POSITION Θ Judge Value_Fill2', 'CURE SPEED Unit Time_Fill2', 'CURE SPEED Judge Value_Fill2', 'CURE STANDBY POSITION X Unit Time_Fill2', 'CURE STANDBY POSITION X Judge Value_Fill2', 'CURE STANDBY POSITION Z Unit Time_Fill2', 'CURE STANDBY POSITION Z Judge Value_Fill2', 'CURE STANDBY POSITION Θ Unit Time_Fill2', 'CURE STANDBY POSITION Θ Judge Value_Fill2', 'CURE START POSITION X Unit Time_Fill2', 'CURE START POSITION X Judge Value_Fill2', 'CURE START POSITION Z Unit Time_Fill2', 'CURE START POSITION Z Judge Value_Fill2', 'CURE START POSITION Θ Unit Time_Fill2', 'CURE START POSITION Θ Judge Value_Fill2', 'DISCHARGED SPEED OF RESIN Unit Time_Fill2', 'DISCHARGED SPEED OF RESIN Judge Value_Fill2', 'DISCHARGED TIME OF RESIN(Stage1) Unit Time_Fill2', 'DISCHARGED TIME OF RESIN(Stage1) Judge Value_Fill2', 'DISCHARGED TIME OF RESIN(Stage2) Unit Time_Fill2', 'DISCHARGED TIME OF RESIN(Stage2) Judge Value_Fill2', 'DISCHARGED TIME OF RESIN(Stage3) Unit Time_Fill2', 'DISCHARGED TIME OF RESIN(Stage3) Judge Value_Fill2', 'Dispense Volume(Stage1) Unit Time_Fill2', 'Dispense Volume(Stage1) Judge Value_Fill2', 'Dispense Volume(Stage2) Unit Time_Fill2', 'Dispense Volume(Stage2) Judge Value_Fill2', 'Dispense Volume(Stage3) Unit Time_Fill2', 'Dispense Volume(Stage3) Judge Value_Fill2', 'HEAD NORMAL COORDINATE X AXIS(Stage1) Unit Time_Fill2', 'HEAD NORMAL COORDINATE X AXIS(Stage2) Unit Time_Fill2', 'HEAD NORMAL COORDINATE X AXIS(Stage2) Judge Value_Fill2', 'HEAD NORMAL COORDINATE X AXIS(Stage3) Unit Time_Fill2', 'HEAD NORMAL COORDINATE X AXIS(Stage3) Judge Value_Fill2', 'HEAD NORMAL COORDINATE Y AXIS(Stage1) Unit Time_Fill2', 'HEAD NORMAL COORDINATE Y AXIS(Stage1) Judge Value_Fill2', 'HEAD NORMAL COORDINATE Y AXIS(Stage2) Unit Time_Fill2', 'HEAD NORMAL COORDINATE Y AXIS(Stage2) Judge Value_Fill2', 'HEAD NORMAL COORDINATE Y AXIS(Stage3) Unit Time_Fill2', 'HEAD NORMAL COORDINATE Y AXIS(Stage3) Judge Value_Fill2', 'HEAD NORMAL COORDINATE Z AXIS(Stage1) Unit Time_Fill2', 'HEAD NORMAL COORDINATE Z AXIS(Stage1) Judge Value_Fill2', 'HEAD NORMAL COORDINATE Z AXIS(Stage2) Unit Time_Fill2', 'HEAD NORMAL COORDINATE Z AXIS(Stage2) Judge Value_Fill2', 'HEAD NORMAL COORDINATE Z AXIS(Stage3) Unit Time_Fill2', 'HEAD NORMAL COORDINATE Z AXIS(Stage3) Judge Value_Fill2', 'HEAD Standby Position X Unit Time_Fill2', 'HEAD Standby Position X Judge Value_Fill2', 'HEAD Standby Position Y Unit Time_Fill2', 'HEAD Standby Position Y Judge Value_Fill2', 'HEAD Standby Position Z Unit Time_Fill2', 'HEAD Standby Position Z Judge Value_Fill2', 'Head Clean Position X Unit Time_Fill2', 'Head Clean Position X Judge Value_Fill2', 'Head Clean Position Y Unit Time_Fill2', 'Head Clean Position Y Judge Value_Fill2', 'Head Clean Position Z Unit Time_Fill2', 'Head Clean Position Z Judge Value_Fill2', 'Head Purge Position X Unit Time_Fill2', 'Head Purge Position X Judge Value_Fill2', 'Head Purge Position Y Unit Time_Fill2', 'Head Purge Position Y Judge Value_Fill2', 'Head Purge Position Z Unit Time_Fill2', 'Head Purge Position Z Judge Value_Fill2', 'Machine Tact time Unit Time_Fill2', 'Machine Tact time Judge Value_Fill2', 'PalletID Unit Time_Fill2', 'PalletID Judge Value_Fill2', 'Production Qty Unit Time_Fill2', 'Production Qty Judge Value_Fill2', 'Receip No Unit Time_Fill2', 'Receip No Judge Value_Fill2', 'WorkMode Unit Time_Fill2', 'WorkMode Judge Value_Fill2']\n"
     ]
    }
   ],
   "source": [
    "cols = train_data.columns\n",
    "null_list = []\n",
    "\n",
    "for i in cols:\n",
    "    if train_data[i].isna().sum() == train_data.shape[0]:\n",
    "        null_list.append(i)\n",
    "\n",
    "print(null_list)"
   ]
  },
  {
   "cell_type": "code",
   "execution_count": 34,
   "id": "7ea6a149",
   "metadata": {
    "scrolled": true
   },
   "outputs": [
    {
     "data": {
      "text/plain": [
       "0       NaN\n",
       "1       NaN\n",
       "2       NaN\n",
       "3       NaN\n",
       "4       NaN\n",
       "         ..\n",
       "40501   NaN\n",
       "40502   NaN\n",
       "40503   NaN\n",
       "40504   NaN\n",
       "40505   NaN\n",
       "Name: DISCHARGED TIME OF RESIN(Stage3) Unit Time_Dam, Length: 40506, dtype: float64"
      ]
     },
     "execution_count": 34,
     "metadata": {},
     "output_type": "execute_result"
    }
   ],
   "source": [
    "train_data['DISCHARGED TIME OF RESIN(Stage3) Unit Time_Dam']"
   ]
  },
  {
   "cell_type": "code",
   "execution_count": 35,
   "id": "35aca7c6",
   "metadata": {},
   "outputs": [
    {
     "data": {
      "text/plain": [
       "array([nan])"
      ]
     },
     "execution_count": 35,
     "metadata": {},
     "output_type": "execute_result"
    }
   ],
   "source": [
    "train_data['DISCHARGED TIME OF RESIN(Stage3) Unit Time_Dam'].unique()"
   ]
  },
  {
   "cell_type": "code",
   "execution_count": 36,
   "id": "1275182e",
   "metadata": {},
   "outputs": [
    {
     "name": "stdout",
     "output_type": "stream",
     "text": [
      "278\n"
     ]
    }
   ],
   "source": [
    "print(len(null_list))"
   ]
  },
  {
   "cell_type": "markdown",
   "id": "9fd4f30f",
   "metadata": {},
   "source": [
    "제외할 데이터\n",
    "1. 모두 NULL\n",
    "2. 모두 같은 데이터"
   ]
  },
  {
   "cell_type": "code",
   "execution_count": 37,
   "id": "61a37b96",
   "metadata": {},
   "outputs": [],
   "source": [
    "# 모두 NULL 인 Columns drop\n",
    "train_not_null = train_data.drop(columns = null_list)"
   ]
  },
  {
   "cell_type": "code",
   "execution_count": 38,
   "id": "06e96768",
   "metadata": {},
   "outputs": [
    {
     "data": {
      "text/plain": [
       "(40506, 186)"
      ]
     },
     "execution_count": 38,
     "metadata": {},
     "output_type": "execute_result"
    }
   ],
   "source": [
    "train_not_null.shape"
   ]
  },
  {
   "cell_type": "code",
   "execution_count": 39,
   "id": "7b6a9d88",
   "metadata": {},
   "outputs": [
    {
     "name": "stdout",
     "output_type": "stream",
     "text": [
      "['Wip Line_Dam', 'Process Desc._Dam', 'Insp. Seq No._Dam', 'Insp Judge Code_Dam', 'CURE STANDBY POSITION X Collect Result_Dam', 'CURE STANDBY POSITION Z Collect Result_Dam', 'CURE STANDBY POSITION Θ Collect Result_Dam', 'CURE START POSITION Z Collect Result_Dam', 'HEAD NORMAL COORDINATE X AXIS(Stage1) Judge Value_Dam', 'Wip Line_AutoClave', 'Process Desc._AutoClave', 'Equipment_AutoClave', 'Insp. Seq No._AutoClave', 'Insp Judge Code_AutoClave', '1st Pressure Judge Value_AutoClave', '2nd Pressure Judge Value_AutoClave', '3rd Pressure Judge Value_AutoClave', 'GMES_ORIGIN_INSP_JUDGE_CODE Collect Result_AutoClave', 'GMES_ORIGIN_INSP_JUDGE_CODE Judge Value_AutoClave', 'Wip Line_Fill1', 'Process Desc._Fill1', 'Insp. Seq No._Fill1', 'Insp Judge Code_Fill1', 'HEAD NORMAL COORDINATE X AXIS(Stage1) Judge Value_Fill1', 'Wip Line_Fill2', 'Process Desc._Fill2', 'Insp. Seq No._Fill2', 'Insp Judge Code_Fill2', 'CURE END POSITION Θ Collect Result_Fill2', 'CURE STANDBY POSITION X Collect Result_Fill2', 'CURE STANDBY POSITION Θ Collect Result_Fill2', 'CURE START POSITION Θ Collect Result_Fill2', 'DISCHARGED SPEED OF RESIN Collect Result_Fill2', 'DISCHARGED TIME OF RESIN(Stage1) Collect Result_Fill2', 'DISCHARGED TIME OF RESIN(Stage2) Collect Result_Fill2', 'DISCHARGED TIME OF RESIN(Stage3) Collect Result_Fill2', 'Dispense Volume(Stage1) Collect Result_Fill2', 'Dispense Volume(Stage2) Collect Result_Fill2', 'Dispense Volume(Stage3) Collect Result_Fill2', 'HEAD NORMAL COORDINATE X AXIS(Stage1) Judge Value_Fill2']\n"
     ]
    }
   ],
   "source": [
    "cols2 = train_not_null.columns\n",
    "unique_cols = []\n",
    "\n",
    "for i in cols2:\n",
    "    if train_not_null[i].nunique() == 1:\n",
    "        unique_cols.append(i)\n",
    "        \n",
    "print(unique_cols)"
   ]
  },
  {
   "cell_type": "code",
   "execution_count": 40,
   "id": "a0c87399",
   "metadata": {},
   "outputs": [],
   "source": [
    "train_data = train_not_null.drop(columns = unique_cols)"
   ]
  },
  {
   "cell_type": "code",
   "execution_count": 41,
   "id": "6ac6d635",
   "metadata": {},
   "outputs": [
    {
     "data": {
      "text/plain": [
       "(40506, 146)"
      ]
     },
     "execution_count": 41,
     "metadata": {},
     "output_type": "execute_result"
    }
   ],
   "source": [
    "train_data.shape"
   ]
  },
  {
   "cell_type": "code",
   "execution_count": 42,
   "id": "9645ef1e",
   "metadata": {},
   "outputs": [],
   "source": [
    "df = train_data"
   ]
  },
  {
   "cell_type": "code",
   "execution_count": 43,
   "id": "3dd18075",
   "metadata": {},
   "outputs": [],
   "source": [
    "def detect_column_types(df):\n",
    "    col_types = {}\n",
    "    for col in df.columns:\n",
    "        unique_types = df[col].apply(type).unique()  # 각 칼럼의 데이터 타입 확인\n",
    "        col_types[col] = unique_types\n",
    "    return col_types"
   ]
  },
  {
   "cell_type": "code",
   "execution_count": 44,
   "id": "6de6e312",
   "metadata": {},
   "outputs": [],
   "source": [
    "column_types = detect_column_types(df)"
   ]
  },
  {
   "cell_type": "code",
   "execution_count": 45,
   "id": "5944f9a5",
   "metadata": {},
   "outputs": [],
   "source": [
    "float_list = []\n",
    "int_list = []\n",
    "other_list = []\n",
    "\n",
    "for col, types in column_types.items():\n",
    "    if float in types:\n",
    "        float_list.append(col)\n",
    "    elif int in types:\n",
    "        int_list.append(col)\n",
    "    else:\n",
    "        other_list.append(col)"
   ]
  },
  {
   "cell_type": "code",
   "execution_count": 46,
   "id": "9ba19bb7",
   "metadata": {},
   "outputs": [],
   "source": [
    "column_types2 = detect_column_types(df[other_list])"
   ]
  },
  {
   "cell_type": "code",
   "execution_count": 47,
   "id": "d24c7f61",
   "metadata": {
    "scrolled": true
   },
   "outputs": [
    {
     "name": "stdout",
     "output_type": "stream",
     "text": [
      "칼럼 'Equipment_Dam'의 데이터 타입들:\n",
      " - <class 'str'>\n",
      "\n",
      "\n",
      "칼럼 'Model.Suffix_Dam'의 데이터 타입들:\n",
      " - <class 'str'>\n",
      "\n",
      "\n",
      "칼럼 'Workorder_Dam'의 데이터 타입들:\n",
      " - <class 'str'>\n",
      "\n",
      "\n",
      "칼럼 'Model.Suffix_AutoClave'의 데이터 타입들:\n",
      " - <class 'str'>\n",
      "\n",
      "\n",
      "칼럼 'Workorder_AutoClave'의 데이터 타입들:\n",
      " - <class 'str'>\n",
      "\n",
      "\n",
      "칼럼 'Chamber Temp. Judge Value_AutoClave'의 데이터 타입들:\n",
      " - <class 'str'>\n",
      "\n",
      "\n",
      "칼럼 'Equipment_Fill1'의 데이터 타입들:\n",
      " - <class 'str'>\n",
      "\n",
      "\n",
      "칼럼 'Model.Suffix_Fill1'의 데이터 타입들:\n",
      " - <class 'str'>\n",
      "\n",
      "\n",
      "칼럼 'Workorder_Fill1'의 데이터 타입들:\n",
      " - <class 'str'>\n",
      "\n",
      "\n",
      "칼럼 'Equipment_Fill2'의 데이터 타입들:\n",
      " - <class 'str'>\n",
      "\n",
      "\n",
      "칼럼 'Model.Suffix_Fill2'의 데이터 타입들:\n",
      " - <class 'str'>\n",
      "\n",
      "\n",
      "칼럼 'Workorder_Fill2'의 데이터 타입들:\n",
      " - <class 'str'>\n",
      "\n",
      "\n",
      "칼럼 'target'의 데이터 타입들:\n",
      " - <class 'str'>\n",
      "\n",
      "\n"
     ]
    }
   ],
   "source": [
    "for col, types in column_types2.items():\n",
    "    print(f\"칼럼 '{col}'의 데이터 타입들:\")\n",
    "    for t in types:\n",
    "        print(f\" - {t}\")\n",
    "    print(\"\\n\")"
   ]
  },
  {
   "cell_type": "code",
   "execution_count": 48,
   "id": "91c799bc",
   "metadata": {
    "scrolled": false
   },
   "outputs": [
    {
     "data": {
      "text/plain": [
       "{'Equipment_Dam': array([<class 'str'>], dtype=object),\n",
       " 'Model.Suffix_Dam': array([<class 'str'>], dtype=object),\n",
       " 'Workorder_Dam': array([<class 'str'>], dtype=object),\n",
       " 'Model.Suffix_AutoClave': array([<class 'str'>], dtype=object),\n",
       " 'Workorder_AutoClave': array([<class 'str'>], dtype=object),\n",
       " 'Chamber Temp. Judge Value_AutoClave': array([<class 'str'>], dtype=object),\n",
       " 'Equipment_Fill1': array([<class 'str'>], dtype=object),\n",
       " 'Model.Suffix_Fill1': array([<class 'str'>], dtype=object),\n",
       " 'Workorder_Fill1': array([<class 'str'>], dtype=object),\n",
       " 'Equipment_Fill2': array([<class 'str'>], dtype=object),\n",
       " 'Model.Suffix_Fill2': array([<class 'str'>], dtype=object),\n",
       " 'Workorder_Fill2': array([<class 'str'>], dtype=object),\n",
       " 'target': array([<class 'str'>], dtype=object)}"
      ]
     },
     "execution_count": 48,
     "metadata": {},
     "output_type": "execute_result"
    }
   ],
   "source": [
    "column_types2"
   ]
  },
  {
   "cell_type": "code",
   "execution_count": 49,
   "id": "4aafe788",
   "metadata": {
    "scrolled": false
   },
   "outputs": [
    {
     "data": {
      "text/plain": [
       "Index(['HEAD NORMAL COORDINATE X AXIS(Stage1) Collect Result_Dam',\n",
       "       'HEAD NORMAL COORDINATE X AXIS(Stage1) Collect Result_Fill1',\n",
       "       'HEAD NORMAL COORDINATE X AXIS(Stage1) Collect Result_Fill2'],\n",
       "      dtype='object')"
      ]
     },
     "execution_count": 49,
     "metadata": {},
     "output_type": "execute_result"
    }
   ],
   "source": [
    "a= train_data.columns\n",
    "null_list = a[train_data.isnull().sum() > 0]\n",
    "null_list"
   ]
  },
  {
   "cell_type": "code",
   "execution_count": 50,
   "id": "dff3dee5",
   "metadata": {},
   "outputs": [],
   "source": [
    "OK_data1 = \"HEAD NORMAL COORDINATE X AXIS(Stage1) Collect Result_Dam\"\n",
    "OK_data2 = 'HEAD NORMAL COORDINATE X AXIS(Stage1) Collect Result_Fill1'\n",
    "OK_data3 = 'HEAD NORMAL COORDINATE X AXIS(Stage1) Collect Result_Fill2'"
   ]
  },
  {
   "cell_type": "code",
   "execution_count": 51,
   "id": "d31fee66",
   "metadata": {
    "scrolled": true
   },
   "outputs": [
    {
     "data": {
      "text/plain": [
       "HEAD NORMAL COORDINATE X AXIS(Stage1) Collect Result_Dam\n",
       "OK       11293\n",
       "549       7271\n",
       "162.4     3580\n",
       "550       2398\n",
       "550.3     1909\n",
       "549.5     1263\n",
       "548.5       26\n",
       "Name: count, dtype: int64"
      ]
     },
     "execution_count": 51,
     "metadata": {},
     "output_type": "execute_result"
    }
   ],
   "source": [
    "train_data[OK_data1].value_counts()"
   ]
  },
  {
   "cell_type": "code",
   "execution_count": 53,
   "id": "b4cc8756",
   "metadata": {},
   "outputs": [],
   "source": [
    "train_data[OK_data1].replace('OK', np.nan, inplace=True)\n",
    "train_data[OK_data2].replace('OK', np.nan, inplace=True)\n",
    "train_data[OK_data3].replace('OK', np.nan, inplace=True)"
   ]
  },
  {
   "cell_type": "code",
   "execution_count": 55,
   "id": "55d7ab8b",
   "metadata": {},
   "outputs": [
    {
     "data": {
      "text/plain": [
       "HEAD NORMAL COORDINATE X AXIS(Stage1) Collect Result_Dam\n",
       "549      7271\n",
       "162.4    3580\n",
       "550      2398\n",
       "550.3    1909\n",
       "549.5    1263\n",
       "548.5      26\n",
       "Name: count, dtype: int64"
      ]
     },
     "execution_count": 55,
     "metadata": {},
     "output_type": "execute_result"
    }
   ],
   "source": [
    "train_data[OK_data1].value_counts()"
   ]
  },
  {
   "cell_type": "code",
   "execution_count": 56,
   "id": "1528b599",
   "metadata": {
    "scrolled": true
   },
   "outputs": [
    {
     "data": {
      "text/plain": [
       "HEAD NORMAL COORDINATE X AXIS(Stage1) Collect Result_Dam\n",
       "549      7271\n",
       "162.4    3580\n",
       "550      2398\n",
       "550.3    1909\n",
       "549.5    1263\n",
       "548.5      26\n",
       "Name: count, dtype: int64"
      ]
     },
     "execution_count": 56,
     "metadata": {},
     "output_type": "execute_result"
    }
   ],
   "source": [
    "train_data[OK_data1].value_counts()"
   ]
  },
  {
   "cell_type": "code",
   "execution_count": null,
   "id": "bcb1b521",
   "metadata": {},
   "outputs": [],
   "source": []
  },
  {
   "cell_type": "code",
   "execution_count": 44,
   "id": "66aa5500",
   "metadata": {},
   "outputs": [
    {
     "data": {
      "text/plain": [
       "{'Equipment_Dam': array([<class 'str'>], dtype=object),\n",
       " 'Model.Suffix_Dam': array([<class 'str'>], dtype=object),\n",
       " 'Workorder_Dam': array([<class 'str'>], dtype=object),\n",
       " 'Model.Suffix_AutoClave': array([<class 'str'>], dtype=object),\n",
       " 'Workorder_AutoClave': array([<class 'str'>], dtype=object),\n",
       " 'Chamber Temp. Judge Value_AutoClave': array([<class 'str'>], dtype=object),\n",
       " 'Equipment_Fill1': array([<class 'str'>], dtype=object),\n",
       " 'Model.Suffix_Fill1': array([<class 'str'>], dtype=object),\n",
       " 'Workorder_Fill1': array([<class 'str'>], dtype=object),\n",
       " 'Equipment_Fill2': array([<class 'str'>], dtype=object),\n",
       " 'Model.Suffix_Fill2': array([<class 'str'>], dtype=object),\n",
       " 'Workorder_Fill2': array([<class 'str'>], dtype=object),\n",
       " 'target': array([<class 'str'>], dtype=object)}"
      ]
     },
     "execution_count": 44,
     "metadata": {},
     "output_type": "execute_result"
    }
   ],
   "source": [
    "column_types2"
   ]
  },
  {
   "cell_type": "code",
   "execution_count": 45,
   "id": "0fc4206f",
   "metadata": {},
   "outputs": [],
   "source": [
    "object_columns = df.select_dtypes(include='object').columns"
   ]
  },
  {
   "cell_type": "code",
   "execution_count": 46,
   "id": "6305e20f",
   "metadata": {},
   "outputs": [
    {
     "data": {
      "text/plain": [
       "Index(['Equipment_Dam', 'Model.Suffix_Dam', 'Workorder_Dam',\n",
       "       'Model.Suffix_AutoClave', 'Workorder_AutoClave',\n",
       "       'Chamber Temp. Judge Value_AutoClave', 'Equipment_Fill1',\n",
       "       'Model.Suffix_Fill1', 'Workorder_Fill1', 'Equipment_Fill2',\n",
       "       'Model.Suffix_Fill2', 'Workorder_Fill2', 'target'],\n",
       "      dtype='object')"
      ]
     },
     "execution_count": 46,
     "metadata": {},
     "output_type": "execute_result"
    }
   ],
   "source": [
    "object_columns"
   ]
  },
  {
   "cell_type": "code",
   "execution_count": 47,
   "id": "20c88a7b",
   "metadata": {},
   "outputs": [
    {
     "name": "stdout",
     "output_type": "stream",
     "text": [
      "Equipment_Dam\n",
      "Dam dispenser #1    25030\n",
      "Dam dispenser #2    15476\n",
      "Name: count, dtype: int64\n"
     ]
    }
   ],
   "source": [
    "print(train_data[object_columns[0]].value_counts())"
   ]
  },
  {
   "cell_type": "code",
   "execution_count": 48,
   "id": "21d655b7",
   "metadata": {},
   "outputs": [],
   "source": [
    "train_data[object_columns[0]] = np.where(train_data[object_columns[0]]=='Dam dispenser #1', 1, 2)"
   ]
  },
  {
   "cell_type": "code",
   "execution_count": 49,
   "id": "1f383033",
   "metadata": {},
   "outputs": [
    {
     "data": {
      "text/plain": [
       "0        1\n",
       "1        1\n",
       "2        2\n",
       "3        2\n",
       "4        1\n",
       "        ..\n",
       "40501    1\n",
       "40502    2\n",
       "40503    1\n",
       "40504    2\n",
       "40505    1\n",
       "Name: Equipment_Dam, Length: 40506, dtype: int64"
      ]
     },
     "execution_count": 49,
     "metadata": {},
     "output_type": "execute_result"
    }
   ],
   "source": [
    "train_data[object_columns[0]]"
   ]
  },
  {
   "cell_type": "code",
   "execution_count": 50,
   "id": "c2e8ea41",
   "metadata": {
    "scrolled": true
   },
   "outputs": [
    {
     "data": {
      "text/plain": [
       "Model.Suffix_Dam\n",
       "AJX75334501    33820\n",
       "AJX75334502     3390\n",
       "AJX75334505     2635\n",
       "AJX75334507      310\n",
       "AJX75334503      162\n",
       "AJX75334506      129\n",
       "AJX75334508       60\n",
       "Name: count, dtype: int64"
      ]
     },
     "execution_count": 50,
     "metadata": {},
     "output_type": "execute_result"
    }
   ],
   "source": [
    "train_data[object_columns[1]].value_counts()"
   ]
  },
  {
   "cell_type": "code",
   "execution_count": 51,
   "id": "42b06b6c",
   "metadata": {},
   "outputs": [],
   "source": [
    "def process_head_normal1(data):\n",
    "    if data == \"AJX75334501\":\n",
    "        return 1\n",
    "    elif data == \"AJX75334502\":\n",
    "        return 2\n",
    "    elif data == \"AJX75334503\":\n",
    "        return 3\n",
    "    elif data == \"AJX75334505\":\n",
    "        return 5\n",
    "    elif data == \"AJX75334506\":\n",
    "        return 6\n",
    "    elif data == \"AJX75334507\":\n",
    "        return 7\n",
    "    elif data == \"AJX75334508\":\n",
    "        return 8"
   ]
  },
  {
   "cell_type": "code",
   "execution_count": 52,
   "id": "9fe1af53",
   "metadata": {},
   "outputs": [
    {
     "data": {
      "text/plain": [
       "0        AJX75334505\n",
       "1        AJX75334505\n",
       "2        AJX75334501\n",
       "3        AJX75334501\n",
       "4        AJX75334501\n",
       "            ...     \n",
       "40501    AJX75334501\n",
       "40502    AJX75334501\n",
       "40503    AJX75334501\n",
       "40504    AJX75334501\n",
       "40505    AJX75334501\n",
       "Name: Model.Suffix_Dam, Length: 40506, dtype: object"
      ]
     },
     "execution_count": 52,
     "metadata": {},
     "output_type": "execute_result"
    }
   ],
   "source": [
    "train_data[object_columns[1]]"
   ]
  },
  {
   "cell_type": "code",
   "execution_count": 53,
   "id": "80d39259",
   "metadata": {},
   "outputs": [],
   "source": [
    "train_data[object_columns[1]] = train_data[object_columns[1]].apply(process_head_normal1)"
   ]
  },
  {
   "cell_type": "code",
   "execution_count": 54,
   "id": "96020729",
   "metadata": {},
   "outputs": [
    {
     "data": {
      "text/plain": [
       "0        5\n",
       "1        5\n",
       "2        1\n",
       "3        1\n",
       "4        1\n",
       "        ..\n",
       "40501    1\n",
       "40502    1\n",
       "40503    1\n",
       "40504    1\n",
       "40505    1\n",
       "Name: Model.Suffix_Dam, Length: 40506, dtype: int64"
      ]
     },
     "execution_count": 54,
     "metadata": {},
     "output_type": "execute_result"
    }
   ],
   "source": [
    "train_data[object_columns[1]]"
   ]
  },
  {
   "cell_type": "code",
   "execution_count": 55,
   "id": "85177576",
   "metadata": {},
   "outputs": [
    {
     "data": {
      "text/plain": [
       "Workorder_Dam\n",
       "3L1X8574-2       272\n",
       "3K1XC268-1       227\n",
       "3L1X9934-1       217\n",
       "3L1X8506-1       217\n",
       "3K1XA586-2       189\n",
       "                ... \n",
       "4BPM0084-1         2\n",
       "3FPXX064-0003      2\n",
       "3H1XB714-1         1\n",
       "4CPM0166-1         1\n",
       "3HPM0061-1         1\n",
       "Name: count, Length: 663, dtype: int64"
      ]
     },
     "execution_count": 55,
     "metadata": {},
     "output_type": "execute_result"
    }
   ],
   "source": [
    "train_data[object_columns[2]].value_counts()"
   ]
  },
  {
   "cell_type": "code",
   "execution_count": 56,
   "id": "a25a603f",
   "metadata": {},
   "outputs": [],
   "source": [
    "value_counts2 = train_data[object_columns[2]].value_counts()"
   ]
  },
  {
   "cell_type": "code",
   "execution_count": 57,
   "id": "6a03eb3d",
   "metadata": {},
   "outputs": [],
   "source": [
    "mapping3 = {value: str(index + 1) for index, value in enumerate(value_counts2.index)}"
   ]
  },
  {
   "cell_type": "code",
   "execution_count": 58,
   "id": "d808d103",
   "metadata": {},
   "outputs": [],
   "source": [
    "train_data[object_columns[2]] = train_data[object_columns[2]].map(mapping3)"
   ]
  },
  {
   "cell_type": "code",
   "execution_count": 59,
   "id": "bf01cf4d",
   "metadata": {},
   "outputs": [
    {
     "data": {
      "text/plain": [
       "Workorder_Dam\n",
       "1      272\n",
       "2      227\n",
       "3      217\n",
       "4      217\n",
       "5      189\n",
       "      ... \n",
       "659      2\n",
       "660      2\n",
       "661      1\n",
       "662      1\n",
       "663      1\n",
       "Name: count, Length: 663, dtype: int64"
      ]
     },
     "execution_count": 59,
     "metadata": {},
     "output_type": "execute_result"
    }
   ],
   "source": [
    "train_data[object_columns[2]].value_counts()"
   ]
  },
  {
   "cell_type": "code",
   "execution_count": 60,
   "id": "c85b1097",
   "metadata": {},
   "outputs": [
    {
     "data": {
      "text/plain": [
       "Model.Suffix_AutoClave\n",
       "AJX75334501    33820\n",
       "AJX75334502     3390\n",
       "AJX75334505     2635\n",
       "AJX75334507      310\n",
       "AJX75334503      162\n",
       "AJX75334506      129\n",
       "AJX75334508       60\n",
       "Name: count, dtype: int64"
      ]
     },
     "execution_count": 60,
     "metadata": {},
     "output_type": "execute_result"
    }
   ],
   "source": [
    "train_data[object_columns[3]].value_counts()"
   ]
  },
  {
   "cell_type": "code",
   "execution_count": 61,
   "id": "385da31f",
   "metadata": {},
   "outputs": [],
   "source": [
    "train_data[object_columns[3]] = train_data[object_columns[3]].apply(process_head_normal1)"
   ]
  },
  {
   "cell_type": "code",
   "execution_count": 62,
   "id": "2b3f1a2c",
   "metadata": {},
   "outputs": [
    {
     "data": {
      "text/plain": [
       "Model.Suffix_AutoClave\n",
       "1    33820\n",
       "2     3390\n",
       "5     2635\n",
       "7      310\n",
       "3      162\n",
       "6      129\n",
       "8       60\n",
       "Name: count, dtype: int64"
      ]
     },
     "execution_count": 62,
     "metadata": {},
     "output_type": "execute_result"
    }
   ],
   "source": [
    "train_data[object_columns[3]].value_counts()"
   ]
  },
  {
   "cell_type": "code",
   "execution_count": 63,
   "id": "9d00cf92",
   "metadata": {},
   "outputs": [
    {
     "data": {
      "text/plain": [
       "Workorder_AutoClave\n",
       "3L1X8574-2       272\n",
       "3K1XC268-1       227\n",
       "3L1X9934-1       217\n",
       "3L1X8506-1       217\n",
       "3K1XA586-2       189\n",
       "                ... \n",
       "4BPM0084-1         2\n",
       "3FPXX064-0003      2\n",
       "3H1XB714-1         1\n",
       "4CPM0166-1         1\n",
       "3HPM0061-1         1\n",
       "Name: count, Length: 663, dtype: int64"
      ]
     },
     "execution_count": 63,
     "metadata": {},
     "output_type": "execute_result"
    }
   ],
   "source": [
    "train_data[object_columns[4]].value_counts()"
   ]
  },
  {
   "cell_type": "code",
   "execution_count": 64,
   "id": "df631458",
   "metadata": {},
   "outputs": [],
   "source": [
    "value_counts4 = train_data[object_columns[4]].value_counts()\n",
    "mapping4 = {value: str(index + 1) for index, value in enumerate(value_counts4.index)}\n",
    "train_data[object_columns[4]] = train_data[object_columns[4]].map(mapping4)"
   ]
  },
  {
   "cell_type": "code",
   "execution_count": 65,
   "id": "4ddc0d0e",
   "metadata": {},
   "outputs": [
    {
     "data": {
      "text/plain": [
       "Workorder_AutoClave\n",
       "1      272\n",
       "2      227\n",
       "3      217\n",
       "4      217\n",
       "5      189\n",
       "      ... \n",
       "659      2\n",
       "660      2\n",
       "661      1\n",
       "662      1\n",
       "663      1\n",
       "Name: count, Length: 663, dtype: int64"
      ]
     },
     "execution_count": 65,
     "metadata": {},
     "output_type": "execute_result"
    }
   ],
   "source": [
    "train_data[object_columns[4]].value_counts()"
   ]
  },
  {
   "cell_type": "code",
   "execution_count": 66,
   "id": "344dd1c9",
   "metadata": {},
   "outputs": [
    {
     "data": {
      "text/plain": [
       "Chamber Temp. Judge Value_AutoClave\n",
       "OK    29112\n",
       "NG    11394\n",
       "Name: count, dtype: int64"
      ]
     },
     "execution_count": 66,
     "metadata": {},
     "output_type": "execute_result"
    }
   ],
   "source": [
    "train_data[object_columns[5]].value_counts()"
   ]
  },
  {
   "cell_type": "code",
   "execution_count": 67,
   "id": "7e732f20",
   "metadata": {},
   "outputs": [],
   "source": [
    "train_data[object_columns[5]] = np.where(train_data[object_columns[5]]=='OK', 0, 1)"
   ]
  },
  {
   "cell_type": "code",
   "execution_count": 68,
   "id": "6754bc42",
   "metadata": {},
   "outputs": [
    {
     "data": {
      "text/plain": [
       "Chamber Temp. Judge Value_AutoClave\n",
       "0    29112\n",
       "1    11394\n",
       "Name: count, dtype: int64"
      ]
     },
     "execution_count": 68,
     "metadata": {},
     "output_type": "execute_result"
    }
   ],
   "source": [
    "train_data[object_columns[5]].value_counts()"
   ]
  },
  {
   "cell_type": "code",
   "execution_count": 69,
   "id": "da110bf9",
   "metadata": {},
   "outputs": [
    {
     "data": {
      "text/plain": [
       "Equipment_Fill1\n",
       "Fill1 dispenser #1    25027\n",
       "Fill1 dispenser #2    15479\n",
       "Name: count, dtype: int64"
      ]
     },
     "execution_count": 69,
     "metadata": {},
     "output_type": "execute_result"
    }
   ],
   "source": [
    "train_data[object_columns[6]].value_counts()"
   ]
  },
  {
   "cell_type": "code",
   "execution_count": 70,
   "id": "25420d35",
   "metadata": {},
   "outputs": [],
   "source": [
    "train_data[object_columns[6]] = np.where(train_data[object_columns[6]]=='Fill1 dispenser #1', 1, 2)"
   ]
  },
  {
   "cell_type": "code",
   "execution_count": 71,
   "id": "4e0bc18b",
   "metadata": {},
   "outputs": [
    {
     "data": {
      "text/plain": [
       "Equipment_Fill1\n",
       "1    25027\n",
       "2    15479\n",
       "Name: count, dtype: int64"
      ]
     },
     "execution_count": 71,
     "metadata": {},
     "output_type": "execute_result"
    }
   ],
   "source": [
    "train_data[object_columns[6]].value_counts()"
   ]
  },
  {
   "cell_type": "code",
   "execution_count": 72,
   "id": "1f867b93",
   "metadata": {},
   "outputs": [
    {
     "data": {
      "text/plain": [
       "Equipment_Fill1\n",
       "1    25027\n",
       "2    15479\n",
       "Name: count, dtype: int64"
      ]
     },
     "execution_count": 72,
     "metadata": {},
     "output_type": "execute_result"
    }
   ],
   "source": [
    "train_data[object_columns[6]].value_counts()"
   ]
  },
  {
   "cell_type": "code",
   "execution_count": 73,
   "id": "909bd5a8",
   "metadata": {},
   "outputs": [
    {
     "data": {
      "text/plain": [
       "Model.Suffix_Fill1\n",
       "AJX75334501    33820\n",
       "AJX75334502     3390\n",
       "AJX75334505     2635\n",
       "AJX75334507      310\n",
       "AJX75334503      162\n",
       "AJX75334506      129\n",
       "AJX75334508       60\n",
       "Name: count, dtype: int64"
      ]
     },
     "execution_count": 73,
     "metadata": {},
     "output_type": "execute_result"
    }
   ],
   "source": [
    "train_data[object_columns[7]].value_counts()"
   ]
  },
  {
   "cell_type": "code",
   "execution_count": 74,
   "id": "c9968870",
   "metadata": {},
   "outputs": [],
   "source": [
    "train_data[object_columns[7]] = train_data[object_columns[7]].apply(process_head_normal1)"
   ]
  },
  {
   "cell_type": "code",
   "execution_count": 75,
   "id": "0de6b51b",
   "metadata": {},
   "outputs": [
    {
     "data": {
      "text/plain": [
       "Model.Suffix_Fill1\n",
       "1    33820\n",
       "2     3390\n",
       "5     2635\n",
       "7      310\n",
       "3      162\n",
       "6      129\n",
       "8       60\n",
       "Name: count, dtype: int64"
      ]
     },
     "execution_count": 75,
     "metadata": {},
     "output_type": "execute_result"
    }
   ],
   "source": [
    "train_data[object_columns[7]].value_counts()"
   ]
  },
  {
   "cell_type": "code",
   "execution_count": 76,
   "id": "08830acc",
   "metadata": {},
   "outputs": [
    {
     "data": {
      "text/plain": [
       "Workorder_Fill1\n",
       "3L1X8574-2       272\n",
       "3K1XC268-1       227\n",
       "3L1X9934-1       217\n",
       "3L1X8506-1       217\n",
       "3K1XA586-2       189\n",
       "                ... \n",
       "4BPM0084-1         2\n",
       "3FPXX064-0003      2\n",
       "3H1XB714-1         1\n",
       "4CPM0166-1         1\n",
       "3HPM0061-1         1\n",
       "Name: count, Length: 663, dtype: int64"
      ]
     },
     "execution_count": 76,
     "metadata": {},
     "output_type": "execute_result"
    }
   ],
   "source": [
    "train_data[object_columns[8]].value_counts()"
   ]
  },
  {
   "cell_type": "code",
   "execution_count": 77,
   "id": "fcc34627",
   "metadata": {},
   "outputs": [],
   "source": [
    "value_counts8 = train_data[object_columns[8]].value_counts()\n",
    "mapping8 = {value: str(index + 1) for index, value in enumerate(value_counts8.index)}\n",
    "train_data[object_columns[8]] = train_data[object_columns[8]].map(mapping8)"
   ]
  },
  {
   "cell_type": "code",
   "execution_count": 78,
   "id": "7ab2e948",
   "metadata": {},
   "outputs": [
    {
     "data": {
      "text/plain": [
       "Workorder_Fill1\n",
       "1      272\n",
       "2      227\n",
       "3      217\n",
       "4      217\n",
       "5      189\n",
       "      ... \n",
       "659      2\n",
       "660      2\n",
       "661      1\n",
       "662      1\n",
       "663      1\n",
       "Name: count, Length: 663, dtype: int64"
      ]
     },
     "execution_count": 78,
     "metadata": {},
     "output_type": "execute_result"
    }
   ],
   "source": [
    "train_data[object_columns[8]].value_counts()"
   ]
  },
  {
   "cell_type": "code",
   "execution_count": 79,
   "id": "bea2c589",
   "metadata": {},
   "outputs": [
    {
     "data": {
      "text/plain": [
       "Equipment_Fill2\n",
       "Fill2 dispenser #1    25026\n",
       "Fill2 dispenser #2    15480\n",
       "Name: count, dtype: int64"
      ]
     },
     "execution_count": 79,
     "metadata": {},
     "output_type": "execute_result"
    }
   ],
   "source": [
    "train_data[object_columns[9]].value_counts()"
   ]
  },
  {
   "cell_type": "code",
   "execution_count": 80,
   "id": "1f8419a6",
   "metadata": {},
   "outputs": [],
   "source": [
    "train_data[object_columns[9]] = np.where(train_data[object_columns[9]]=='Fill2 dispenser #1', 1, 2)"
   ]
  },
  {
   "cell_type": "code",
   "execution_count": 81,
   "id": "3e3716b5",
   "metadata": {},
   "outputs": [
    {
     "data": {
      "text/plain": [
       "Equipment_Fill2\n",
       "1    25026\n",
       "2    15480\n",
       "Name: count, dtype: int64"
      ]
     },
     "execution_count": 81,
     "metadata": {},
     "output_type": "execute_result"
    }
   ],
   "source": [
    "train_data[object_columns[9]].value_counts()"
   ]
  },
  {
   "cell_type": "code",
   "execution_count": 82,
   "id": "6fd964d4",
   "metadata": {},
   "outputs": [
    {
     "data": {
      "text/plain": [
       "Model.Suffix_Fill2\n",
       "AJX75334501    33820\n",
       "AJX75334502     3390\n",
       "AJX75334505     2635\n",
       "AJX75334507      310\n",
       "AJX75334503      162\n",
       "AJX75334506      129\n",
       "AJX75334508       60\n",
       "Name: count, dtype: int64"
      ]
     },
     "execution_count": 82,
     "metadata": {},
     "output_type": "execute_result"
    }
   ],
   "source": [
    "train_data[object_columns[10]].value_counts()"
   ]
  },
  {
   "cell_type": "code",
   "execution_count": 83,
   "id": "6ca53573",
   "metadata": {},
   "outputs": [],
   "source": [
    "value_counts10 = train_data[object_columns[10]].value_counts()\n",
    "mapping10 = {value: str(index + 1) for index, value in enumerate(value_counts10.index)}\n",
    "train_data[object_columns[10]] = train_data[object_columns[10]].map(mapping10)"
   ]
  },
  {
   "cell_type": "code",
   "execution_count": 84,
   "id": "151e5f46",
   "metadata": {},
   "outputs": [
    {
     "data": {
      "text/plain": [
       "Model.Suffix_Fill2\n",
       "1    33820\n",
       "2     3390\n",
       "3     2635\n",
       "4      310\n",
       "5      162\n",
       "6      129\n",
       "7       60\n",
       "Name: count, dtype: int64"
      ]
     },
     "execution_count": 84,
     "metadata": {},
     "output_type": "execute_result"
    }
   ],
   "source": [
    "train_data[object_columns[10]].value_counts()"
   ]
  },
  {
   "cell_type": "code",
   "execution_count": 85,
   "id": "fb3fde93",
   "metadata": {},
   "outputs": [
    {
     "data": {
      "text/plain": [
       "Workorder_Fill2\n",
       "3L1X8574-2       272\n",
       "3K1XC268-1       227\n",
       "3L1X9934-1       217\n",
       "3L1X8506-1       217\n",
       "3K1XA586-2       189\n",
       "                ... \n",
       "4BPM0084-1         2\n",
       "3FPXX064-0003      2\n",
       "3H1XB714-1         1\n",
       "4CPM0166-1         1\n",
       "3HPM0061-1         1\n",
       "Name: count, Length: 663, dtype: int64"
      ]
     },
     "execution_count": 85,
     "metadata": {},
     "output_type": "execute_result"
    }
   ],
   "source": [
    "train_data[object_columns[11]].value_counts()"
   ]
  },
  {
   "cell_type": "code",
   "execution_count": 86,
   "id": "382489d6",
   "metadata": {},
   "outputs": [],
   "source": [
    "value_counts11 = train_data[object_columns[11]].value_counts()\n",
    "mapping11 = {value: str(index + 1) for index, value in enumerate(value_counts11.index)}\n",
    "train_data[object_columns[11]] = train_data[object_columns[11]].map(mapping11)"
   ]
  },
  {
   "cell_type": "code",
   "execution_count": 87,
   "id": "fa07d846",
   "metadata": {},
   "outputs": [
    {
     "data": {
      "text/plain": [
       "Workorder_Fill2\n",
       "1      272\n",
       "2      227\n",
       "3      217\n",
       "4      217\n",
       "5      189\n",
       "      ... \n",
       "659      2\n",
       "660      2\n",
       "661      1\n",
       "662      1\n",
       "663      1\n",
       "Name: count, Length: 663, dtype: int64"
      ]
     },
     "execution_count": 87,
     "metadata": {},
     "output_type": "execute_result"
    }
   ],
   "source": [
    "train_data[object_columns[11]].value_counts()"
   ]
  },
  {
   "cell_type": "code",
   "execution_count": 88,
   "id": "3ca4c56b",
   "metadata": {
    "scrolled": true
   },
   "outputs": [
    {
     "name": "stdout",
     "output_type": "stream",
     "text": [
      "Defaulting to user installation because normal site-packages is not writeable\n",
      "Requirement already satisfied: imblearn in ./.local/lib/python3.10/site-packages (0.0)\n",
      "Requirement already satisfied: imbalanced-learn in ./.local/lib/python3.10/site-packages (from imblearn) (0.12.3)\n",
      "Requirement already satisfied: joblib>=1.1.1 in ./.local/lib/python3.10/site-packages (from imbalanced-learn->imblearn) (1.4.2)\n",
      "Requirement already satisfied: scipy>=1.5.0 in ./.local/lib/python3.10/site-packages (from imbalanced-learn->imblearn) (1.14.0)\n",
      "Requirement already satisfied: numpy>=1.17.3 in ./.local/lib/python3.10/site-packages (from imbalanced-learn->imblearn) (1.23.5)\n",
      "Requirement already satisfied: threadpoolctl>=2.0.0 in ./.local/lib/python3.10/site-packages (from imbalanced-learn->imblearn) (3.5.0)\n",
      "Requirement already satisfied: scikit-learn>=1.0.2 in ./.local/lib/python3.10/site-packages (from imbalanced-learn->imblearn) (1.2.2)\n",
      "\n",
      "\u001b[1m[\u001b[0m\u001b[34;49mnotice\u001b[0m\u001b[1;39;49m]\u001b[0m\u001b[39;49m A new release of pip is available: \u001b[0m\u001b[31;49m23.0.1\u001b[0m\u001b[39;49m -> \u001b[0m\u001b[32;49m24.2\u001b[0m\n",
      "\u001b[1m[\u001b[0m\u001b[34;49mnotice\u001b[0m\u001b[1;39;49m]\u001b[0m\u001b[39;49m To update, run: \u001b[0m\u001b[32;49mpip install --upgrade pip\u001b[0m\n",
      "Note: you may need to restart the kernel to use updated packages.\n"
     ]
    }
   ],
   "source": [
    "pip install imblearn"
   ]
  },
  {
   "cell_type": "code",
   "execution_count": 89,
   "id": "8eb5b837",
   "metadata": {
    "scrolled": false
   },
   "outputs": [
    {
     "name": "stdout",
     "output_type": "stream",
     "text": [
      "Accuracy: 0.5893617021276596\n",
      "Confusion Matrix:\n",
      " [[272 198]\n",
      " [188 282]]\n",
      "Classification Report:\n",
      "               precision    recall  f1-score   support\n",
      "\n",
      "           0       0.59      0.58      0.58       470\n",
      "           1       0.59      0.60      0.59       470\n",
      "\n",
      "    accuracy                           0.59       940\n",
      "   macro avg       0.59      0.59      0.59       940\n",
      "weighted avg       0.59      0.59      0.59       940\n",
      "\n"
     ]
    }
   ],
   "source": [
    "import pandas as pd\n",
    "from sklearn.preprocessing import StandardScaler, LabelEncoder, OneHotEncoder\n",
    "from sklearn.model_selection import train_test_split\n",
    "from imblearn.under_sampling import RandomUnderSampler\n",
    "from xgboost import XGBClassifier\n",
    "from sklearn.metrics import classification_report, accuracy_score, confusion_matrix\n",
    "from sklearn.compose import ColumnTransformer\n",
    "from sklearn.pipeline import Pipeline\n",
    "\n",
    "# 데이터프레임 복사\n",
    "df = train_data.copy()\n",
    "\n",
    "# Target 열을 Label Encoding: Normal -> 0, Abnormal -> 1\n",
    "label_encoder = LabelEncoder()\n",
    "df['target'] = label_encoder.fit_transform(df['target'])\n",
    "\n",
    "# X, y로 데이터셋 분리\n",
    "X = df.drop('target', axis=1)\n",
    "y = df['target']\n",
    "\n",
    "# 불균형 데이터 조정 (언더샘플링)\n",
    "rus = RandomUnderSampler(random_state=110)\n",
    "X_resampled, y_resampled = rus.fit_resample(X, y)\n",
    "\n",
    "# 범주형 및 수치형 열 분리\n",
    "categorical_cols = X_resampled.select_dtypes(include=['category']).columns\n",
    "numerical_cols = X_resampled.select_dtypes(include=['float64', 'int64']).columns\n",
    "\n",
    "# OneHotEncoder를 사용하여 범주형 데이터 변환\n",
    "preprocessor = ColumnTransformer(\n",
    "    transformers=[\n",
    "        ('num', StandardScaler(), numerical_cols),\n",
    "        ('cat', OneHotEncoder(drop='first'), categorical_cols)])\n",
    "\n",
    "# 학습용 및 테스트용 데이터 분리\n",
    "X_train, X_test, y_train, y_test = train_test_split(X_resampled, y_resampled, test_size=0.2, random_state=110, stratify=y_resampled)\n",
    "\n",
    "# XGBoost 모델 정의 및 학습을 위한 파이프라인 생성\n",
    "model = Pipeline(steps=[\n",
    "    ('preprocessor', preprocessor),\n",
    "    ('classifier', XGBClassifier(\n",
    "        objective='binary:logistic',\n",
    "        eval_metric='logloss',\n",
    "        eta=0.1,\n",
    "        max_depth=6,\n",
    "    \n",
    "    ))\n",
    "])\n",
    "\n",
    "# 모델 학습\n",
    "model.fit(X_train, y_train)\n",
    "\n",
    "# 예측 수행\n",
    "y_pred = model.predict(X_test)\n",
    "\n",
    "# 모델 평가\n",
    "print(\"Accuracy:\", accuracy_score(y_test, y_pred))\n",
    "print(\"Confusion Matrix:\\n\", confusion_matrix(y_test, y_pred))\n",
    "print(\"Classification Report:\\n\", classification_report(y_test, y_pred))\n",
    "\n"
   ]
  },
  {
   "cell_type": "code",
   "execution_count": 95,
   "id": "3c6ff63c",
   "metadata": {},
   "outputs": [],
   "source": [
    "test_data = pd.read_csv(\"test.csv\")"
   ]
  },
  {
   "cell_type": "code",
   "execution_count": 98,
   "id": "a5ec03a8",
   "metadata": {},
   "outputs": [],
   "source": [
    "test_data['Equipment_Dam'] = np.where(test_data['Equipment_Dam']=='Dam dispenser #1', 1, 2)"
   ]
  },
  {
   "cell_type": "code",
   "execution_count": 100,
   "id": "28cc8e34",
   "metadata": {
    "scrolled": true
   },
   "outputs": [
    {
     "data": {
      "text/plain": [
       "{'Equipment_Dam': array([<class 'str'>], dtype=object),\n",
       " 'Model.Suffix_Dam': array([<class 'str'>], dtype=object),\n",
       " 'Workorder_Dam': array([<class 'str'>], dtype=object),\n",
       " 'Model.Suffix_AutoClave': array([<class 'str'>], dtype=object),\n",
       " 'Workorder_AutoClave': array([<class 'str'>], dtype=object),\n",
       " 'Chamber Temp. Judge Value_AutoClave': array([<class 'str'>], dtype=object),\n",
       " 'Equipment_Fill1': array([<class 'str'>], dtype=object),\n",
       " 'Model.Suffix_Fill1': array([<class 'str'>], dtype=object),\n",
       " 'Workorder_Fill1': array([<class 'str'>], dtype=object),\n",
       " 'Equipment_Fill2': array([<class 'str'>], dtype=object),\n",
       " 'Model.Suffix_Fill2': array([<class 'str'>], dtype=object),\n",
       " 'Workorder_Fill2': array([<class 'str'>], dtype=object),\n",
       " 'target': array([<class 'str'>], dtype=object)}"
      ]
     },
     "execution_count": 100,
     "metadata": {},
     "output_type": "execute_result"
    }
   ],
   "source": [
    "column_types2"
   ]
  },
  {
   "cell_type": "code",
   "execution_count": 101,
   "id": "bb2dcab4",
   "metadata": {},
   "outputs": [],
   "source": [
    "def process_head_normal1(data):\n",
    "    if data == \"AJX75334501\":\n",
    "        return 1\n",
    "    elif data == \"AJX75334502\":\n",
    "        return 2\n",
    "    elif data == \"AJX75334503\":\n",
    "        return 3\n",
    "    elif data == \"AJX75334505\":\n",
    "        return 5\n",
    "    elif data == \"AJX75334506\":\n",
    "        return 6\n",
    "    elif data == \"AJX75334507\":\n",
    "        return 7\n",
    "    elif data == \"AJX75334508\":\n",
    "        return 8\n",
    "\n",
    "test_data[object_columns[1]] = test_data[object_columns[1]].apply(process_head_normal1)\n",
    "\n",
    "value_counts2 = test_data[object_columns[2]].value_counts()\n",
    "mapping3 = {value: str(index + 1) for index, value in enumerate(value_counts2.index)}\n",
    "test_data[object_columns[2]] = test_data[object_columns[2]].map(mapping3)\n",
    "\n",
    "test_data[object_columns[3]] = test_data[object_columns[3]].apply(process_head_normal1)\n",
    "\n",
    "value_counts4 = test_data[object_columns[4]].value_counts()\n",
    "mapping4 = {value: str(index + 1) for index, value in enumerate(value_counts4.index)}\n",
    "test_data[object_columns[4]] = test_data[object_columns[4]].map(mapping4)\n",
    "\n",
    "test_data[object_columns[5]] = np.where(test_data[object_columns[5]]=='OK', 0, 1)\n",
    "\n",
    "test_data[object_columns[6]] = np.where(test_data[object_columns[6]]=='Fill1 dispenser #1', 1, 2)\n",
    "\n",
    "test_data[object_columns[7]] = test_data[object_columns[7]].apply(process_head_normal1)\n",
    "\n",
    "value_counts8 = test_data[object_columns[8]].value_counts()\n",
    "mapping8 = {value: str(index + 1) for index, value in enumerate(value_counts8.index)}\n",
    "test_data[object_columns[8]] = test_data[object_columns[8]].map(mapping8)\n",
    "\n",
    "test_data[object_columns[9]] = np.where(test_data[object_columns[9]]=='Fill2 dispenser #1', 1, 2)\n",
    "\n",
    "value_counts10 = test_data[object_columns[10]].value_counts()\n",
    "mapping10 = {value: str(index + 1) for index, value in enumerate(value_counts10.index)}\n",
    "test_data[object_columns[10]] = test_data[object_columns[10]].map(mapping10)\n",
    "\n",
    "value_counts11 = test_data[object_columns[11]].value_counts()\n",
    "mapping11 = {value: str(index + 1) for index, value in enumerate(value_counts11.index)}\n",
    "test_data[object_columns[11]] = test_data[object_columns[11]].map(mapping11)"
   ]
  },
  {
   "cell_type": "code",
   "execution_count": 103,
   "id": "637a01b4",
   "metadata": {},
   "outputs": [],
   "source": [
    "test_data[OK_data1] = np.where(test_data[OK_data1]=='OK', 0, 1)\n",
    "test_data[OK_data2] = np.where(test_data[OK_data2]=='OK', 0, 1)\n",
    "test_data[OK_data3] = np.where(test_data[OK_data3]=='OK', 0, 1)"
   ]
  },
  {
   "cell_type": "code",
   "execution_count": 109,
   "id": "5b4016c3",
   "metadata": {},
   "outputs": [],
   "source": [
    "# 테스트 데이터 로드 및 전처리\n",
    "\n",
    "df_test_x = test_data[X.columns]  # 학습 데이터의 특징들과 동일한 열 선택\n",
    "\n",
    "# 테스트 데이터에 대한 예측 수행\n",
    "test_pred = model.predict(df_test_x)\n",
    "\n",
    "# 제출 파일 생성\n",
    "df_sub = pd.read_csv(\"submission.csv\")\n",
    "df_sub[\"target\"] = test_pred\n",
    "df_sub['target'] = df_sub['target'].map({1: 'Normal', 0: 'AbNormal'})\n",
    "df_sub.to_csv(\"submission.csv\", index=False)\n"
   ]
  },
  {
   "cell_type": "code",
   "execution_count": 110,
   "id": "983f0096",
   "metadata": {},
   "outputs": [
    {
     "data": {
      "text/html": [
       "<div>\n",
       "<style scoped>\n",
       "    .dataframe tbody tr th:only-of-type {\n",
       "        vertical-align: middle;\n",
       "    }\n",
       "\n",
       "    .dataframe tbody tr th {\n",
       "        vertical-align: top;\n",
       "    }\n",
       "\n",
       "    .dataframe thead th {\n",
       "        text-align: right;\n",
       "    }\n",
       "</style>\n",
       "<table border=\"1\" class=\"dataframe\">\n",
       "  <thead>\n",
       "    <tr style=\"text-align: right;\">\n",
       "      <th></th>\n",
       "      <th>Set ID</th>\n",
       "      <th>target</th>\n",
       "    </tr>\n",
       "  </thead>\n",
       "  <tbody>\n",
       "    <tr>\n",
       "      <th>0</th>\n",
       "      <td>0001be084fbc4aaa9d921f39e595961b</td>\n",
       "      <td>AbNormal</td>\n",
       "    </tr>\n",
       "    <tr>\n",
       "      <th>1</th>\n",
       "      <td>0005bbd180064abd99e63f9ed3e1ac80</td>\n",
       "      <td>Normal</td>\n",
       "    </tr>\n",
       "    <tr>\n",
       "      <th>2</th>\n",
       "      <td>000948934c4140d883d670adcb609584</td>\n",
       "      <td>AbNormal</td>\n",
       "    </tr>\n",
       "    <tr>\n",
       "      <th>3</th>\n",
       "      <td>000a6bfd02874c6296dc7b2e9c5678a7</td>\n",
       "      <td>Normal</td>\n",
       "    </tr>\n",
       "    <tr>\n",
       "      <th>4</th>\n",
       "      <td>0018e78ce91343678716e2ea27a51c95</td>\n",
       "      <td>Normal</td>\n",
       "    </tr>\n",
       "    <tr>\n",
       "      <th>...</th>\n",
       "      <td>...</td>\n",
       "      <td>...</td>\n",
       "    </tr>\n",
       "    <tr>\n",
       "      <th>17356</th>\n",
       "      <td>ffea508b59934d689b540f95eb3fa730</td>\n",
       "      <td>Normal</td>\n",
       "    </tr>\n",
       "    <tr>\n",
       "      <th>17357</th>\n",
       "      <td>ffed8923c8a448a98afc641b770be153</td>\n",
       "      <td>Normal</td>\n",
       "    </tr>\n",
       "    <tr>\n",
       "      <th>17358</th>\n",
       "      <td>fff1e73734da40adbe805359b3efb462</td>\n",
       "      <td>Normal</td>\n",
       "    </tr>\n",
       "    <tr>\n",
       "      <th>17359</th>\n",
       "      <td>fff8e38bdd09470baf95f71e92075dec</td>\n",
       "      <td>Normal</td>\n",
       "    </tr>\n",
       "    <tr>\n",
       "      <th>17360</th>\n",
       "      <td>fffa83e0a13d4c2db4fd8bf905b517d4</td>\n",
       "      <td>Normal</td>\n",
       "    </tr>\n",
       "  </tbody>\n",
       "</table>\n",
       "<p>17361 rows × 2 columns</p>\n",
       "</div>"
      ],
      "text/plain": [
       "                                 Set ID    target\n",
       "0      0001be084fbc4aaa9d921f39e595961b  AbNormal\n",
       "1      0005bbd180064abd99e63f9ed3e1ac80    Normal\n",
       "2      000948934c4140d883d670adcb609584  AbNormal\n",
       "3      000a6bfd02874c6296dc7b2e9c5678a7    Normal\n",
       "4      0018e78ce91343678716e2ea27a51c95    Normal\n",
       "...                                 ...       ...\n",
       "17356  ffea508b59934d689b540f95eb3fa730    Normal\n",
       "17357  ffed8923c8a448a98afc641b770be153    Normal\n",
       "17358  fff1e73734da40adbe805359b3efb462    Normal\n",
       "17359  fff8e38bdd09470baf95f71e92075dec    Normal\n",
       "17360  fffa83e0a13d4c2db4fd8bf905b517d4    Normal\n",
       "\n",
       "[17361 rows x 2 columns]"
      ]
     },
     "execution_count": 110,
     "metadata": {},
     "output_type": "execute_result"
    }
   ],
   "source": [
    "df_sub"
   ]
  },
  {
   "cell_type": "code",
   "execution_count": 111,
   "id": "2e3245ac",
   "metadata": {},
   "outputs": [
    {
     "data": {
      "text/plain": [
       "target\n",
       "Normal      10634\n",
       "AbNormal     6727\n",
       "Name: count, dtype: int64"
      ]
     },
     "execution_count": 111,
     "metadata": {},
     "output_type": "execute_result"
    }
   ],
   "source": [
    "df_sub['target'].value_counts()"
   ]
  },
  {
   "cell_type": "markdown",
   "id": "77878fa1",
   "metadata": {},
   "source": [
    "0.15~"
   ]
  },
  {
   "cell_type": "code",
   "execution_count": null,
   "id": "4a219ad1",
   "metadata": {},
   "outputs": [],
   "source": []
  },
  {
   "cell_type": "code",
   "execution_count": null,
   "id": "d8641ccb",
   "metadata": {},
   "outputs": [],
   "source": []
  },
  {
   "cell_type": "code",
   "execution_count": null,
   "id": "edeb02af",
   "metadata": {},
   "outputs": [],
   "source": []
  },
  {
   "cell_type": "code",
   "execution_count": null,
   "id": "fd102969",
   "metadata": {},
   "outputs": [],
   "source": []
  },
  {
   "cell_type": "code",
   "execution_count": null,
   "id": "567af8c4",
   "metadata": {},
   "outputs": [],
   "source": []
  },
  {
   "cell_type": "code",
   "execution_count": null,
   "id": "f1f9b476",
   "metadata": {},
   "outputs": [],
   "source": []
  },
  {
   "cell_type": "code",
   "execution_count": null,
   "id": "11616bf7",
   "metadata": {},
   "outputs": [],
   "source": []
  },
  {
   "cell_type": "code",
   "execution_count": null,
   "id": "c9eceb4b",
   "metadata": {},
   "outputs": [],
   "source": []
  },
  {
   "cell_type": "code",
   "execution_count": null,
   "id": "24aba7cd",
   "metadata": {},
   "outputs": [],
   "source": []
  },
  {
   "cell_type": "code",
   "execution_count": null,
   "id": "1bbe6799",
   "metadata": {},
   "outputs": [],
   "source": []
  },
  {
   "cell_type": "code",
   "execution_count": null,
   "id": "5fa462ae",
   "metadata": {},
   "outputs": [],
   "source": []
  },
  {
   "cell_type": "code",
   "execution_count": null,
   "id": "70f5676e",
   "metadata": {},
   "outputs": [],
   "source": []
  },
  {
   "cell_type": "code",
   "execution_count": null,
   "id": "595576ff",
   "metadata": {},
   "outputs": [],
   "source": []
  },
  {
   "cell_type": "code",
   "execution_count": null,
   "id": "b630bb60",
   "metadata": {},
   "outputs": [],
   "source": []
  },
  {
   "cell_type": "code",
   "execution_count": null,
   "id": "7be6a466",
   "metadata": {},
   "outputs": [],
   "source": []
  },
  {
   "cell_type": "code",
   "execution_count": null,
   "id": "99e53187",
   "metadata": {},
   "outputs": [],
   "source": []
  },
  {
   "cell_type": "code",
   "execution_count": null,
   "id": "e4f370d5",
   "metadata": {},
   "outputs": [],
   "source": []
  },
  {
   "cell_type": "code",
   "execution_count": null,
   "id": "0688a33d",
   "metadata": {},
   "outputs": [],
   "source": []
  },
  {
   "cell_type": "code",
   "execution_count": null,
   "id": "ac7f3929",
   "metadata": {},
   "outputs": [],
   "source": []
  },
  {
   "cell_type": "code",
   "execution_count": null,
   "id": "235bb346",
   "metadata": {},
   "outputs": [],
   "source": []
  },
  {
   "cell_type": "code",
   "execution_count": null,
   "id": "93818cf5",
   "metadata": {},
   "outputs": [],
   "source": []
  },
  {
   "cell_type": "code",
   "execution_count": null,
   "id": "5c73d07f",
   "metadata": {},
   "outputs": [],
   "source": []
  },
  {
   "cell_type": "code",
   "execution_count": null,
   "id": "ebc3d914",
   "metadata": {},
   "outputs": [],
   "source": []
  },
  {
   "cell_type": "code",
   "execution_count": null,
   "id": "406c86cd",
   "metadata": {},
   "outputs": [],
   "source": []
  },
  {
   "cell_type": "code",
   "execution_count": null,
   "id": "d3430c12",
   "metadata": {},
   "outputs": [],
   "source": []
  },
  {
   "cell_type": "code",
   "execution_count": null,
   "id": "391222a3",
   "metadata": {},
   "outputs": [],
   "source": []
  },
  {
   "cell_type": "code",
   "execution_count": null,
   "id": "c25c8df4",
   "metadata": {},
   "outputs": [],
   "source": []
  },
  {
   "cell_type": "code",
   "execution_count": null,
   "id": "bcb6cba4",
   "metadata": {},
   "outputs": [],
   "source": []
  },
  {
   "cell_type": "code",
   "execution_count": null,
   "id": "3c5e89ec",
   "metadata": {},
   "outputs": [],
   "source": []
  },
  {
   "cell_type": "code",
   "execution_count": null,
   "id": "0b490afe",
   "metadata": {},
   "outputs": [],
   "source": []
  },
  {
   "cell_type": "code",
   "execution_count": null,
   "id": "199b870b",
   "metadata": {},
   "outputs": [],
   "source": []
  },
  {
   "cell_type": "code",
   "execution_count": null,
   "id": "1d9600c1",
   "metadata": {},
   "outputs": [],
   "source": []
  },
  {
   "cell_type": "code",
   "execution_count": null,
   "id": "d5b95288",
   "metadata": {},
   "outputs": [],
   "source": []
  },
  {
   "cell_type": "code",
   "execution_count": null,
   "id": "7f6b4906",
   "metadata": {},
   "outputs": [],
   "source": []
  },
  {
   "cell_type": "code",
   "execution_count": null,
   "id": "0a77e911",
   "metadata": {},
   "outputs": [],
   "source": []
  },
  {
   "cell_type": "code",
   "execution_count": null,
   "id": "577ede0d",
   "metadata": {},
   "outputs": [],
   "source": []
  }
 ],
 "metadata": {
  "kernelspec": {
   "display_name": "Python 3 (ipykernel)",
   "language": "python",
   "name": "python3"
  },
  "language_info": {
   "codemirror_mode": {
    "name": "ipython",
    "version": 3
   },
   "file_extension": ".py",
   "mimetype": "text/x-python",
   "name": "python",
   "nbconvert_exporter": "python",
   "pygments_lexer": "ipython3",
   "version": "3.10.13"
  }
 },
 "nbformat": 4,
 "nbformat_minor": 5
}
